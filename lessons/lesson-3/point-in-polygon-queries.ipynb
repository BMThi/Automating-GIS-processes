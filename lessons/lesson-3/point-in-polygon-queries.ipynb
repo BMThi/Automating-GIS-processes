{
 "cells": [
  {
   "cell_type": "markdown",
   "id": "ae0a4b2f",
   "metadata": {},
   "source": [
    "# Point-in-polygon queries\n",
    "\n",
    "Finding out if a certain point is located inside or outside of an area,\n",
    "or finding out if a line intersects with another line or polygon are\n",
    "fundamental geospatial operations that are often used e.g. to select\n",
    "data based on location. Such spatial queries are one of the typical\n",
    "first steps of the workflow when doing spatial analysis. Performing a\n",
    "spatial join (will be introduced later) between two spatial datasets is\n",
    "one of the most typical applications where Point in Polygon (PIP) query\n",
    "is used.\n",
    "\n",
    "For further reading about PIP and other geometric operations,\n",
    "see Chapter 4.2 in Smith, Goodchild & Longley: [Geospatial Analysis - 6th edition](https://www.spatialanalysisonline.com/HTML/index.html).\n",
    "\n",
    "\n",
    "## How to check if point is inside a polygon?\n",
    "\n",
    "Computationally, detecting if a point is inside a polygon is most commonly done using a specific formula called [Ray Casting algorithm](https://en.wikipedia.org/wiki/Point_in_polygon#Ray_casting_algorithm).\n",
    "Luckily, we do not need to create such a function ourselves for\n",
    "conducting the Point in Polygon (PIP) query. Instead, we can take\n",
    "advantage of [Shapely's binary predicates](https://shapely.readthedocs.io/en/stable/manual.html#binary-predicates)\n",
    "that can evaluate the topolocical relationships between geographical\n",
    "objects, such as the PIP as we're interested here.\n",
    "\n",
    "## Point-in-polygon queries on `shapely` geometries\n",
    "\n",
    "There are basically two ways of conducting PIP in Shapely:\n",
    "\n",
    "1. using a function called\n",
    "   [within()](https://shapely.readthedocs.io/en/stable/manual.html#object.within)\n",
    "   that checks if a point is within a polygon\n",
    "2. using a function called\n",
    "   [contains()](https://shapely.readthedocs.io/en/stable/manual.html#object.contains)\n",
    "   that checks if a polygon contains a point\n",
    "\n",
    "\n",
    "> **Note**\n",
    ">\n",
    "> Even though we are discussing a **Point** in Polygon operation, it is also possible to check if a LineString or Polygon is inside another Polygon.\n",
    "\n",
    "\n",
    "\n",
    "Let’s first create a couple of point geometries:"
   ]
  },
  {
   "cell_type": "code",
   "execution_count": 1,
   "id": "290dd955",
   "metadata": {},
   "outputs": [],
   "source": [
    "import shapely.geometry\n",
    "point1 = shapely.geometry.Point(24.952242, 60.1696017)\n",
    "point2 = shapely.geometry.Point(24.976567, 60.1612500)"
   ]
  },
  {
   "cell_type": "markdown",
   "id": "28b431a5",
   "metadata": {},
   "source": [
    "... and a polygon:"
   ]
  },
  {
   "cell_type": "code",
   "execution_count": 2,
   "id": "0f5c3e95",
   "metadata": {},
   "outputs": [],
   "source": [
    "polygon = shapely.geometry.Polygon(\n",
    "    [\n",
    "        (24.950899, 60.169158),\n",
    "        (24.953492, 60.169158),\n",
    "        (24.953510, 60.170104),\n",
    "        (24.950958, 60.169990)\n",
    "    ]\n",
    ")"
   ]
  },
  {
   "cell_type": "code",
   "execution_count": 3,
   "id": "7476a932",
   "metadata": {},
   "outputs": [
    {
     "name": "stdout",
     "output_type": "stream",
     "text": [
      "POINT (24.952242 60.1696017)\n",
      "POINT (24.976567 60.16125)\n",
      "POLYGON ((24.950899 60.169158, 24.953492 60.169158, 24.95351 60.170104, 24.950958 60.16999, 24.950899 60.169158))\n"
     ]
    }
   ],
   "source": [
    "print(point1)\n",
    "print(point2)\n",
    "print(polygon)"
   ]
  },
  {
   "cell_type": "markdown",
   "id": "cc25c707",
   "metadata": {},
   "source": [
    "Let’s check if the points are `within()` the polygon:"
   ]
  },
  {
   "cell_type": "code",
   "execution_count": 4,
   "id": "9475a971",
   "metadata": {},
   "outputs": [
    {
     "data": {
      "text/plain": [
       "True"
      ]
     },
     "execution_count": 4,
     "metadata": {},
     "output_type": "execute_result"
    }
   ],
   "source": [
    "point1.within(polygon)"
   ]
  },
  {
   "cell_type": "code",
   "execution_count": 5,
   "id": "91b5b69f",
   "metadata": {},
   "outputs": [
    {
     "data": {
      "text/plain": [
       "False"
      ]
     },
     "execution_count": 5,
     "metadata": {},
     "output_type": "execute_result"
    }
   ],
   "source": [
    "point2.within(polygon)"
   ]
  },
  {
   "cell_type": "markdown",
   "id": "f327796e",
   "metadata": {},
   "source": [
    "It seems that the first point is inside the polygon, but the second one is not.\n",
    "\n",
    "We can turn the logic of the look-up around: Rather than check of the point is\n",
    "within the polygon, we can also ask whether the polygon `contains()` the point:"
   ]
  },
  {
   "cell_type": "code",
   "execution_count": 6,
   "id": "b672d7df",
   "metadata": {},
   "outputs": [
    {
     "data": {
      "text/plain": [
       "True"
      ]
     },
     "execution_count": 6,
     "metadata": {},
     "output_type": "execute_result"
    }
   ],
   "source": [
    "polygon.contains(point1)"
   ]
  },
  {
   "cell_type": "code",
   "execution_count": 7,
   "id": "880fe0b7",
   "metadata": {},
   "outputs": [
    {
     "data": {
      "text/plain": [
       "False"
      ]
     },
     "execution_count": 7,
     "metadata": {},
     "output_type": "execute_result"
    }
   ],
   "source": [
    "polygon.contains(point2)"
   ]
  },
  {
   "cell_type": "markdown",
   "id": "2919e35a",
   "metadata": {},
   "source": [
    "> **Hint:** The two ways of checking the spatial relationship are complementary and yield\n",
    "> equivalent results; [`contains()`](https://shapely.readthedocs.io/en/stable/manual.html#object.contains)\n",
    "> is inverse to [`within()`](https://shapely.readthedocs.io/en/stable/manual.html#object.within),\n",
    "> and vice versa.\n",
    ">\n",
    "> Then, which one should you use? Well, it depends:\n",
    ">\n",
    "> - If you have **many points and just one polygon** and want to find out which points are inside the polygon, you might need to iterate over the points and check one at a time if it is **within()** the polygon.\n",
    "> - If you have **many polygons and just one point** and want to find out which polygon contains the point, you might need to iterate over the polygons until you find one that **contains()** the point.\n",
    "\n",
    "\n",
    "\n",
    "\n",
    "## Point-in-polygon queries on `geopandas.GeoDataFrame`s\n",
    "\n",
    "In the following practical example we find which of the addresses we obtained\n",
    "in the [geocoding section](geocoding-in-geopandas) are located within a certain\n",
    "city district of Helsinki.\n",
    "\n",
    "The data set we are using is from [Helsinki Region Infoshare](https://hri.fi/data/en_GB/dataset/helsingin-piirijako), and licensed under a [Creative-Commons-Attribution-4.0](https://creativecommons.org/licenses/by/4.0/) license."
   ]
  },
  {
   "cell_type": "code",
   "execution_count": 8,
   "id": "d14e025e",
   "metadata": {},
   "outputs": [],
   "source": [
    "import pathlib\n",
    "NOTEBOOK_PATH = pathlib.Path().resolve()\n",
    "DATA_DIRECTORY = NOTEBOOK_PATH / \"data\""
   ]
  },
  {
   "cell_type": "code",
   "execution_count": 9,
   "id": "98d96acc",
   "metadata": {},
   "outputs": [
    {
     "data": {
      "text/html": [
       "<div>\n",
       "<style scoped>\n",
       "    .dataframe tbody tr th:only-of-type {\n",
       "        vertical-align: middle;\n",
       "    }\n",
       "\n",
       "    .dataframe tbody tr th {\n",
       "        vertical-align: top;\n",
       "    }\n",
       "\n",
       "    .dataframe thead th {\n",
       "        text-align: right;\n",
       "    }\n",
       "</style>\n",
       "<table border=\"1\" class=\"dataframe\">\n",
       "  <thead>\n",
       "    <tr style=\"text-align: right;\">\n",
       "      <th></th>\n",
       "      <th>name</th>\n",
       "      <th>geometry</th>\n",
       "    </tr>\n",
       "  </thead>\n",
       "  <tbody>\n",
       "    <tr>\n",
       "      <th>0</th>\n",
       "      <td>Eteläinen</td>\n",
       "      <td>POLYGON ((24.7828 60.09996, 24.80437 60.07607,...</td>\n",
       "    </tr>\n",
       "    <tr>\n",
       "      <th>1</th>\n",
       "      <td>Läntinen</td>\n",
       "      <td>POLYGON ((24.8314 60.25406, 24.83168 60.25321,...</td>\n",
       "    </tr>\n",
       "    <tr>\n",
       "      <th>2</th>\n",
       "      <td>Keskinen</td>\n",
       "      <td>POLYGON ((24.93345 60.18317, 24.93502 60.18005...</td>\n",
       "    </tr>\n",
       "    <tr>\n",
       "      <th>3</th>\n",
       "      <td>Pohjoinen</td>\n",
       "      <td>POLYGON ((24.90081 60.23526, 24.89944 60.235, ...</td>\n",
       "    </tr>\n",
       "    <tr>\n",
       "      <th>4</th>\n",
       "      <td>Koillinen</td>\n",
       "      <td>POLYGON ((24.97163 60.24253, 24.97163 60.24246...</td>\n",
       "    </tr>\n",
       "  </tbody>\n",
       "</table>\n",
       "</div>"
      ],
      "text/plain": [
       "        name                                           geometry\n",
       "0  Eteläinen  POLYGON ((24.7828 60.09996, 24.80437 60.07607,...\n",
       "1   Läntinen  POLYGON ((24.8314 60.25406, 24.83168 60.25321,...\n",
       "2   Keskinen  POLYGON ((24.93345 60.18317, 24.93502 60.18005...\n",
       "3  Pohjoinen  POLYGON ((24.90081 60.23526, 24.89944 60.235, ...\n",
       "4  Koillinen  POLYGON ((24.97163 60.24253, 24.97163 60.24246..."
      ]
     },
     "execution_count": 9,
     "metadata": {},
     "output_type": "execute_result"
    }
   ],
   "source": [
    "import geopandas\n",
    "\n",
    "city_districts = geopandas.read_file(\n",
    "    DATA_DIRECTORY / \"helsinki_city_districts\" / \"helsinki_city_districts_2021.gpkg\"\n",
    ")\n",
    "city_districts.head()"
   ]
  },
  {
   "cell_type": "code",
   "execution_count": 10,
   "id": "8336a478",
   "metadata": {},
   "outputs": [
    {
     "data": {
      "text/plain": [
       "<Axes: >"
      ]
     },
     "execution_count": 10,
     "metadata": {},
     "output_type": "execute_result"
    },
    {
     "data": {
      "image/png": "[encoded data removed]",
      "text/plain": [
       "<Figure size 640x480 with 1 Axes>"
      ]
     },
     "metadata": {},
     "output_type": "display_data"
    }
   ],
   "source": [
    "city_districts.plot()"
   ]
  },
  {
   "cell_type": "markdown",
   "id": "4a60eb6d",
   "metadata": {},
   "source": [
    "Specifically, we want to find out which points are within the ‘Eteläinen’\n",
    "(‘southern’) city district. Let’s start by obtaining a separate data set for\n",
    "this district, loading the addresses data, and plotting a multi-layer map\n",
    "that shows all districts, the ‘Eteläinen’ district, and all the points in\n",
    "one map:"
   ]
  },
  {
   "cell_type": "code",
   "execution_count": 11,
   "id": "07b46735",
   "metadata": {},
   "outputs": [
    {
     "data": {
      "text/html": [
       "<div>\n",
       "<style scoped>\n",
       "    .dataframe tbody tr th:only-of-type {\n",
       "        vertical-align: middle;\n",
       "    }\n",
       "\n",
       "    .dataframe tbody tr th {\n",
       "        vertical-align: top;\n",
       "    }\n",
       "\n",
       "    .dataframe thead th {\n",
       "        text-align: right;\n",
       "    }\n",
       "</style>\n",
       "<table border=\"1\" class=\"dataframe\">\n",
       "  <thead>\n",
       "    <tr style=\"text-align: right;\">\n",
       "      <th></th>\n",
       "      <th>name</th>\n",
       "      <th>geometry</th>\n",
       "    </tr>\n",
       "  </thead>\n",
       "  <tbody>\n",
       "    <tr>\n",
       "      <th>0</th>\n",
       "      <td>Eteläinen</td>\n",
       "      <td>POLYGON ((24.7828 60.09996, 24.80437 60.07607,...</td>\n",
       "    </tr>\n",
       "  </tbody>\n",
       "</table>\n",
       "</div>"
      ],
      "text/plain": [
       "        name                                           geometry\n",
       "0  Eteläinen  POLYGON ((24.7828 60.09996, 24.80437 60.07607,..."
      ]
     },
     "execution_count": 11,
     "metadata": {},
     "output_type": "execute_result"
    }
   ],
   "source": [
    "southern_district = city_districts[city_districts.name == \"Eteläinen\"]\n",
    "southern_district"
   ]
  },
  {
   "cell_type": "code",
   "execution_count": 12,
   "id": "bfa33f67",
   "metadata": {},
   "outputs": [],
   "source": [
    "addresses = geopandas.read_file(DATA_DIRECTORY / \"addresses.gpkg\")"
   ]
  },
  {
   "cell_type": "markdown",
   "id": "14edd522",
   "metadata": {},
   "source": [
    "> **Plotting multiple map layers**\n",
    ">\n",
    "> To plot several map layers in one figure, use the `ax` parameter to specify in which *axes* data should be plotted. This was used in [lesson 7 of Geo-Python](https://geo-python-site.readthedocs.io/en/latest/notebooks/L7/matplotlib.html) to add text to a plot or modify axes properties.\n",
    ">\n",
    "> The easiest way to obtain an *axes* is to save the return value of the first `plot()` (see below). Another option is to create [`subplots()`](https://geo-python-site.readthedocs.io/en/latest/notebooks/L7/advanced-plotting.html#using-subplots), possibly with only one row and one column.\n"
   ]
  },
  {
   "cell_type": "code",
   "execution_count": 13,
   "id": "be5a78b6",
   "metadata": {},
   "outputs": [
    {
     "data": {
      "text/plain": [
       "<Axes: >"
      ]
     },
     "execution_count": 13,
     "metadata": {},
     "output_type": "execute_result"
    },
    {
     "data": {
      "image/png": "[encoded data removed]",
      "text/plain": [
       "<Figure size 640x480 with 1 Axes>"
      ]
     },
     "metadata": {},
     "output_type": "display_data"
    }
   ],
   "source": [
    "axes = city_districts.plot(facecolor=\"grey\")\n",
    "southern_district.plot(ax=axes, facecolor=\"red\")\n",
    "addresses.plot(ax=axes, color=\"blue\", markersize=5)"
   ]
  },
  {
   "cell_type": "markdown",
   "id": "8e4079b6",
   "metadata": {},
   "source": [
    "Some points are within the ‘Eteläinen’ district, but others are not. To find\n",
    "out which are the ones inside the district, we can use a **point-in-polygon\n",
    "query**, this time on the entire `geopandas.GeoDataFrame`. Its method\n",
    "`within()` returns Boolean (`True`/`False`) values that indicate whether or not\n",
    "a row’s geometry is contained in the supplied *other* geometry:\n",
    "\n",
    "\n",
    "<div style=\"border: 1px solid #ffa726; background-color: #ffe0b2; padding: 15px; border-radius: 5px;\">\n",
    "\n",
    "**Geometry vs. geometry column**\n",
    "\n",
    "In the example below, we use `southern.at[0, \"geometry\"]` to obtain a single value, a `shapely.geometry.Polygon`, instead of an entire column (a `GeoSeries`). This ensures that each row’s geometry in the `addresses` data frame is matched against *the same polygon*. In contrast, if we ran `within()` against a column, the operation would be carried out row-wise: the first address point would be checked against the first polygon, the second address point against the second polygon, and so forth.\n",
    "\n",
    "Check the [documentation for `within()`](https://geopandas.org/en/stable/docs/reference/api/geopandas.GeoSeries.within.html) to learn more!\n",
    "\n",
    "</div>\n",
    "\n",
    "\n"
   ]
  },
  {
   "cell_type": "code",
   "execution_count": 16,
   "id": "2af63e25",
   "metadata": {},
   "outputs": [
    {
     "data": {
      "text/plain": [
       "0      True\n",
       "1      True\n",
       "2      True\n",
       "3     False\n",
       "4      True\n",
       "5     False\n",
       "6     False\n",
       "7     False\n",
       "8     False\n",
       "9     False\n",
       "10     True\n",
       "11    False\n",
       "12    False\n",
       "13    False\n",
       "14    False\n",
       "15    False\n",
       "16    False\n",
       "17    False\n",
       "18    False\n",
       "19    False\n",
       "20    False\n",
       "21    False\n",
       "22    False\n",
       "23    False\n",
       "24    False\n",
       "25    False\n",
       "26    False\n",
       "27    False\n",
       "28    False\n",
       "29    False\n",
       "30     True\n",
       "31     True\n",
       "32     True\n",
       "33     True\n",
       "dtype: bool"
      ]
     },
     "execution_count": 16,
     "metadata": {},
     "output_type": "execute_result"
    }
   ],
   "source": [
    "addresses.within(southern_district.at[0, \"geometry\"])"
   ]
  },
  {
   "cell_type": "markdown",
   "id": "4555e5bc",
   "metadata": {},
   "source": [
    "This list of Boolean values, also called a *mask array* can be used to filter\n",
    "the input data frame:"
   ]
  },
  {
   "cell_type": "code",
   "execution_count": 17,
   "id": "a30030e8",
   "metadata": {},
   "outputs": [
    {
     "data": {
      "text/html": [
       "<div>\n",
       "<style scoped>\n",
       "    .dataframe tbody tr th:only-of-type {\n",
       "        vertical-align: middle;\n",
       "    }\n",
       "\n",
       "    .dataframe tbody tr th {\n",
       "        vertical-align: top;\n",
       "    }\n",
       "\n",
       "    .dataframe thead th {\n",
       "        text-align: right;\n",
       "    }\n",
       "</style>\n",
       "<table border=\"1\" class=\"dataframe\">\n",
       "  <thead>\n",
       "    <tr style=\"text-align: right;\">\n",
       "      <th></th>\n",
       "      <th>address</th>\n",
       "      <th>geometry</th>\n",
       "    </tr>\n",
       "  </thead>\n",
       "  <tbody>\n",
       "    <tr>\n",
       "      <th>0</th>\n",
       "      <td>Ruoholahti, 14, Itämerenkatu, Ruoholahti, Läns...</td>\n",
       "      <td>POINT (24.91556 60.1632)</td>\n",
       "    </tr>\n",
       "    <tr>\n",
       "      <th>1</th>\n",
       "      <td>Kamppi, 1, Kampinkuja, Kamppi, Eteläinen suurp...</td>\n",
       "      <td>POINT (24.93166 60.16905)</td>\n",
       "    </tr>\n",
       "    <tr>\n",
       "      <th>2</th>\n",
       "      <td>Social Burgerjoint, 8, Kaivokatu, Keskusta, Kl...</td>\n",
       "      <td>POINT (24.94146 60.17011)</td>\n",
       "    </tr>\n",
       "    <tr>\n",
       "      <th>4</th>\n",
       "      <td>9, Tyynenmerenkatu, Jätkäsaari, Länsisatama, E...</td>\n",
       "      <td>POINT (24.92151 60.15662)</td>\n",
       "    </tr>\n",
       "    <tr>\n",
       "      <th>10</th>\n",
       "      <td>Rautatientori, Keskusta, Kluuvi, Eteläinen suu...</td>\n",
       "      <td>POINT (24.94263 60.1709)</td>\n",
       "    </tr>\n",
       "    <tr>\n",
       "      <th>30</th>\n",
       "      <td>Kampin keskus, 1, Urho Kekkosen katu, Kamppi, ...</td>\n",
       "      <td>POINT (24.93307 60.16908)</td>\n",
       "    </tr>\n",
       "    <tr>\n",
       "      <th>31</th>\n",
       "      <td>Ruoholahdenkatu, Kamppi, Eteläinen suurpiiri, ...</td>\n",
       "      <td>POINT (24.93031 60.16642)</td>\n",
       "    </tr>\n",
       "    <tr>\n",
       "      <th>32</th>\n",
       "      <td>3, Tyynenmerenkatu, Jätkäsaari, Länsisatama, E...</td>\n",
       "      <td>POINT (24.92121 60.15878)</td>\n",
       "    </tr>\n",
       "    <tr>\n",
       "      <th>33</th>\n",
       "      <td>4, Vilhonkatu, Kaisaniemi, Kluuvi, Eteläinen s...</td>\n",
       "      <td>POINT (24.94694 60.17198)</td>\n",
       "    </tr>\n",
       "  </tbody>\n",
       "</table>\n",
       "</div>"
      ],
      "text/plain": [
       "                                              address  \\\n",
       "0   Ruoholahti, 14, Itämerenkatu, Ruoholahti, Läns...   \n",
       "1   Kamppi, 1, Kampinkuja, Kamppi, Eteläinen suurp...   \n",
       "2   Social Burgerjoint, 8, Kaivokatu, Keskusta, Kl...   \n",
       "4   9, Tyynenmerenkatu, Jätkäsaari, Länsisatama, E...   \n",
       "10  Rautatientori, Keskusta, Kluuvi, Eteläinen suu...   \n",
       "30  Kampin keskus, 1, Urho Kekkosen katu, Kamppi, ...   \n",
       "31  Ruoholahdenkatu, Kamppi, Eteläinen suurpiiri, ...   \n",
       "32  3, Tyynenmerenkatu, Jätkäsaari, Länsisatama, E...   \n",
       "33  4, Vilhonkatu, Kaisaniemi, Kluuvi, Eteläinen s...   \n",
       "\n",
       "                     geometry  \n",
       "0    POINT (24.91556 60.1632)  \n",
       "1   POINT (24.93166 60.16905)  \n",
       "2   POINT (24.94146 60.17011)  \n",
       "4   POINT (24.92151 60.15662)  \n",
       "10   POINT (24.94263 60.1709)  \n",
       "30  POINT (24.93307 60.16908)  \n",
       "31  POINT (24.93031 60.16642)  \n",
       "32  POINT (24.92121 60.15878)  \n",
       "33  POINT (24.94694 60.17198)  "
      ]
     },
     "execution_count": 17,
     "metadata": {},
     "output_type": "execute_result"
    }
   ],
   "source": [
    "addresses_in_the_southern_district = addresses[\n",
    "    addresses.within(southern_district.at[0, \"geometry\"])\n",
    "]\n",
    "addresses_in_the_southern_district"
   ]
  },
  {
   "cell_type": "markdown",
   "id": "6cd8811b",
   "metadata": {},
   "source": [
    "Finally, let’s plot this list of addresses one more time to visually verify\n",
    "that all of them, indeed, are located within the ‘Eteläinen’ city district:"
   ]
  },
  {
   "cell_type": "code",
   "execution_count": 18,
   "id": "32bc57f5",
   "metadata": {},
   "outputs": [
    {
     "data": {
      "text/plain": [
       "<Axes: >"
      ]
     },
     "execution_count": 18,
     "metadata": {},
     "output_type": "execute_result"
    },
    {
     "data": {
      "image/png": "[encoded data removed]",
      "text/plain": [
       "<Figure size 640x480 with 1 Axes>"
      ]
     },
     "metadata": {},
     "output_type": "display_data"
    }
   ],
   "source": [
    "axes = city_districts.plot(facecolor=\"grey\")\n",
    "southern_district.plot(ax=axes, facecolor=\"red\")\n",
    "\n",
    "addresses_in_the_southern_district.plot(\n",
    "    ax=axes,\n",
    "    color=\"gold\",\n",
    "    markersize=5\n",
    ")"
   ]
  },
  {
   "cell_type": "markdown",
   "id": "f8816344",
   "metadata": {},
   "source": [
    "Perfect! Now we are left with only the (golden) points which, indeed, are\n",
    "inside the red polygon. That’s exactly what we wanted!"
   ]
  }
 ],
 "metadata": {
  "kernelspec": {
   "display_name": "autogis",
   "language": "python",
   "name": "python3"
  },
  "language_info": {
   "codemirror_mode": {
    "name": "ipython",
    "version": 3
   },
   "file_extension": ".py",
   "mimetype": "text/x-python",
   "name": "python",
   "nbconvert_exporter": "python",
   "pygments_lexer": "ipython3",
   "version": "3.10.16"
  }
 },
 "nbformat": 4,
 "nbformat_minor": 5
}

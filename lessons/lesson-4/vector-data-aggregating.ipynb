{
 "cells": [
  {
   "cell_type": "markdown",
   "id": "abc40def",
   "metadata": {},
   "source": [
    "# Aggregating data\n",
    "\n",
    "Data aggregation refers to a process where we combine data into groups. When\n",
    "doing spatial data aggregation, we merge the geometries together into coarser\n",
    "units (based on some attribute), and can also calculate summary statistics for\n",
    "these combined geometries from the original, more detailed values. For example,\n",
    "suppose that we are interested in studying continents, but we only have\n",
    "country-level data like the country dataset. If we aggregate the data by\n",
    "continent, we would convert the country-level data into a continent-level\n",
    "dataset.\n",
    "\n",
    "In this tutorial, we will aggregate our travel time data by car travel times\n",
    "(column `car_r_t`), i.e. the grid cells that have the same travel time to\n",
    "Railway Station will be merged together.\n",
    "\n",
    "Let’s start with loading `intersection.gpkg`, the output file of the\n",
    "[previous section](overlay-analysis):"
   ]
  },
  {
   "cell_type": "code",
   "execution_count": 3,
   "id": "a403c5a4",
   "metadata": {},
   "outputs": [],
   "source": [
    "import pathlib \n",
    "NOTEBOOK_PATH = pathlib.Path().resolve()\n",
    "DATA_DIRECTORY = NOTEBOOK_PATH / \"data\""
   ]
  },
  {
   "cell_type": "code",
   "execution_count": 4,
   "id": "f378228b",
   "metadata": {},
   "outputs": [],
   "source": [
    "import geopandas\n",
    "intersection = geopandas.read_file(DATA_DIRECTORY / \"intersection.gpkg\")"
   ]
  },
  {
   "cell_type": "markdown",
   "id": "6693e43e",
   "metadata": {},
   "source": [
    "For doing the aggregation we will use a method called `dissolve()` that takes\n",
    "as input the column that will be used for conducting the aggregation:"
   ]
  },
  {
   "cell_type": "code",
   "execution_count": 5,
   "id": "77c910f3",
   "metadata": {},
   "outputs": [
    {
     "data": {
      "text/html": [
       "<div>\n",
       "<style scoped>\n",
       "    .dataframe tbody tr th:only-of-type {\n",
       "        vertical-align: middle;\n",
       "    }\n",
       "\n",
       "    .dataframe tbody tr th {\n",
       "        vertical-align: top;\n",
       "    }\n",
       "\n",
       "    .dataframe thead th {\n",
       "        text-align: right;\n",
       "    }\n",
       "</style>\n",
       "<table border=\"1\" class=\"dataframe\">\n",
       "  <thead>\n",
       "    <tr style=\"text-align: right;\">\n",
       "      <th></th>\n",
       "      <th>geometry</th>\n",
       "      <th>car_m_d</th>\n",
       "      <th>car_m_t</th>\n",
       "      <th>car_r_d</th>\n",
       "      <th>from_id</th>\n",
       "      <th>pt_m_d</th>\n",
       "      <th>pt_m_t</th>\n",
       "      <th>pt_m_tt</th>\n",
       "      <th>pt_r_d</th>\n",
       "      <th>pt_r_t</th>\n",
       "      <th>pt_r_tt</th>\n",
       "      <th>to_id</th>\n",
       "      <th>walk_d</th>\n",
       "      <th>walk_t</th>\n",
       "      <th>GML_ID</th>\n",
       "      <th>NAMEFIN</th>\n",
       "      <th>NAMESWE</th>\n",
       "      <th>NATCODE</th>\n",
       "    </tr>\n",
       "    <tr>\n",
       "      <th>car_r_t</th>\n",
       "      <th></th>\n",
       "      <th></th>\n",
       "      <th></th>\n",
       "      <th></th>\n",
       "      <th></th>\n",
       "      <th></th>\n",
       "      <th></th>\n",
       "      <th></th>\n",
       "      <th></th>\n",
       "      <th></th>\n",
       "      <th></th>\n",
       "      <th></th>\n",
       "      <th></th>\n",
       "      <th></th>\n",
       "      <th></th>\n",
       "      <th></th>\n",
       "      <th></th>\n",
       "      <th></th>\n",
       "    </tr>\n",
       "  </thead>\n",
       "  <tbody>\n",
       "    <tr>\n",
       "      <th>-1</th>\n",
       "      <td>MULTIPOLYGON (((384750 6670000, 384500 6670000...</td>\n",
       "      <td>-1</td>\n",
       "      <td>-1</td>\n",
       "      <td>-1</td>\n",
       "      <td>5913094</td>\n",
       "      <td>-1</td>\n",
       "      <td>-1</td>\n",
       "      <td>-1</td>\n",
       "      <td>-1</td>\n",
       "      <td>-1</td>\n",
       "      <td>-1</td>\n",
       "      <td>-1</td>\n",
       "      <td>-1</td>\n",
       "      <td>-1</td>\n",
       "      <td>27517366</td>\n",
       "      <td>Helsinki</td>\n",
       "      <td>Helsingfors</td>\n",
       "      <td>091</td>\n",
       "    </tr>\n",
       "    <tr>\n",
       "      <th>0</th>\n",
       "      <td>POLYGON ((385750 6672000, 385750 6672250, 3860...</td>\n",
       "      <td>0</td>\n",
       "      <td>0</td>\n",
       "      <td>0</td>\n",
       "      <td>5975375</td>\n",
       "      <td>0</td>\n",
       "      <td>0</td>\n",
       "      <td>0</td>\n",
       "      <td>0</td>\n",
       "      <td>0</td>\n",
       "      <td>0</td>\n",
       "      <td>5975375</td>\n",
       "      <td>0</td>\n",
       "      <td>0</td>\n",
       "      <td>27517366</td>\n",
       "      <td>Helsinki</td>\n",
       "      <td>Helsingfors</td>\n",
       "      <td>091</td>\n",
       "    </tr>\n",
       "    <tr>\n",
       "      <th>7</th>\n",
       "      <td>POLYGON ((386250 6671750, 386000 6671750, 3857...</td>\n",
       "      <td>1051</td>\n",
       "      <td>7</td>\n",
       "      <td>1051</td>\n",
       "      <td>5973739</td>\n",
       "      <td>617</td>\n",
       "      <td>5</td>\n",
       "      <td>6</td>\n",
       "      <td>617</td>\n",
       "      <td>5</td>\n",
       "      <td>6</td>\n",
       "      <td>5975375</td>\n",
       "      <td>448</td>\n",
       "      <td>6</td>\n",
       "      <td>27517366</td>\n",
       "      <td>Helsinki</td>\n",
       "      <td>Helsingfors</td>\n",
       "      <td>091</td>\n",
       "    </tr>\n",
       "    <tr>\n",
       "      <th>8</th>\n",
       "      <td>MULTIPOLYGON (((386000 6671500, 385750 6671500...</td>\n",
       "      <td>1286</td>\n",
       "      <td>8</td>\n",
       "      <td>1286</td>\n",
       "      <td>5973736</td>\n",
       "      <td>706</td>\n",
       "      <td>10</td>\n",
       "      <td>10</td>\n",
       "      <td>706</td>\n",
       "      <td>10</td>\n",
       "      <td>10</td>\n",
       "      <td>5975375</td>\n",
       "      <td>706</td>\n",
       "      <td>10</td>\n",
       "      <td>27517366</td>\n",
       "      <td>Helsinki</td>\n",
       "      <td>Helsingfors</td>\n",
       "      <td>091</td>\n",
       "    </tr>\n",
       "    <tr>\n",
       "      <th>9</th>\n",
       "      <td>MULTIPOLYGON (((385000 6671250, 385000 6671500...</td>\n",
       "      <td>1871</td>\n",
       "      <td>9</td>\n",
       "      <td>1871</td>\n",
       "      <td>5970457</td>\n",
       "      <td>1384</td>\n",
       "      <td>11</td>\n",
       "      <td>13</td>\n",
       "      <td>1394</td>\n",
       "      <td>11</td>\n",
       "      <td>12</td>\n",
       "      <td>5975375</td>\n",
       "      <td>1249</td>\n",
       "      <td>18</td>\n",
       "      <td>27517366</td>\n",
       "      <td>Helsinki</td>\n",
       "      <td>Helsingfors</td>\n",
       "      <td>091</td>\n",
       "    </tr>\n",
       "  </tbody>\n",
       "</table>\n",
       "</div>"
      ],
      "text/plain": [
       "                                                  geometry  car_m_d  car_m_t  \\\n",
       "car_r_t                                                                        \n",
       "-1       MULTIPOLYGON (((384750 6670000, 384500 6670000...       -1       -1   \n",
       " 0       POLYGON ((385750 6672000, 385750 6672250, 3860...        0        0   \n",
       " 7       POLYGON ((386250 6671750, 386000 6671750, 3857...     1051        7   \n",
       " 8       MULTIPOLYGON (((386000 6671500, 385750 6671500...     1286        8   \n",
       " 9       MULTIPOLYGON (((385000 6671250, 385000 6671500...     1871        9   \n",
       "\n",
       "         car_r_d  from_id  pt_m_d  pt_m_t  pt_m_tt  pt_r_d  pt_r_t  pt_r_tt  \\\n",
       "car_r_t                                                                       \n",
       "-1            -1  5913094      -1      -1       -1      -1      -1       -1   \n",
       " 0             0  5975375       0       0        0       0       0        0   \n",
       " 7          1051  5973739     617       5        6     617       5        6   \n",
       " 8          1286  5973736     706      10       10     706      10       10   \n",
       " 9          1871  5970457    1384      11       13    1394      11       12   \n",
       "\n",
       "           to_id  walk_d  walk_t    GML_ID   NAMEFIN      NAMESWE NATCODE  \n",
       "car_r_t                                                                    \n",
       "-1            -1      -1      -1  27517366  Helsinki  Helsingfors     091  \n",
       " 0       5975375       0       0  27517366  Helsinki  Helsingfors     091  \n",
       " 7       5975375     448       6  27517366  Helsinki  Helsingfors     091  \n",
       " 8       5975375     706      10  27517366  Helsinki  Helsingfors     091  \n",
       " 9       5975375    1249      18  27517366  Helsinki  Helsingfors     091  "
      ]
     },
     "execution_count": 5,
     "metadata": {},
     "output_type": "execute_result"
    }
   ],
   "source": [
    "# Conduct the aggregation\n",
    "dissolved = intersection.dissolve(by=\"car_r_t\")\n",
    "\n",
    "# What did we get\n",
    "dissolved.head()"
   ]
  },
  {
   "cell_type": "markdown",
   "id": "4e7c17ef",
   "metadata": {},
   "source": [
    "Let’s compare the number of cells in the layers before and after the\n",
    "aggregation:"
   ]
  },
  {
   "cell_type": "code",
   "execution_count": 6,
   "id": "d5384910",
   "metadata": {},
   "outputs": [
    {
     "name": "stdout",
     "output_type": "stream",
     "text": [
      "Rows in original intersection GeoDataFrame: 3826\n",
      "Rows in dissolved layer: 51\n"
     ]
    }
   ],
   "source": [
    "print(f\"Rows in original intersection GeoDataFrame: {len(intersection)}\")\n",
    "print(f\"Rows in dissolved layer: {len(dissolved)}\")"
   ]
  },
  {
   "cell_type": "markdown",
   "id": "a0e36673",
   "metadata": {},
   "source": [
    "Indeed the number of rows in our data has decreased and the Polygons were\n",
    "merged together.\n",
    "\n",
    "What actually happened here? Let's take a closer look. \n",
    "\n",
    "Let's see what columns we have now in our GeoDataFrame:"
   ]
  },
  {
   "cell_type": "code",
   "execution_count": 7,
   "id": "5974abc2",
   "metadata": {},
   "outputs": [
    {
     "data": {
      "text/plain": [
       "Index(['geometry', 'car_m_d', 'car_m_t', 'car_r_d', 'from_id', 'pt_m_d',\n",
       "       'pt_m_t', 'pt_m_tt', 'pt_r_d', 'pt_r_t', 'pt_r_tt', 'to_id', 'walk_d',\n",
       "       'walk_t', 'GML_ID', 'NAMEFIN', 'NAMESWE', 'NATCODE'],\n",
       "      dtype='object')"
      ]
     },
     "execution_count": 7,
     "metadata": {},
     "output_type": "execute_result"
    }
   ],
   "source": [
    "dissolved.columns"
   ]
  },
  {
   "cell_type": "markdown",
   "id": "9c154bdf",
   "metadata": {},
   "source": [
    "As we can see, the column that we used for conducting the aggregation\n",
    "(`car_r_t`) can not be found from the columns list anymore. What happened to\n",
    "it?\n",
    "\n",
    "Let’s take a look at the indices of our GeoDataFrame:"
   ]
  },
  {
   "cell_type": "code",
   "execution_count": 8,
   "id": "84ebf623",
   "metadata": {},
   "outputs": [
    {
     "data": {
      "text/plain": [
       "Index([-1,  0,  7,  8,  9, 10, 11, 12, 13, 14, 15, 16, 17, 18, 19, 20, 21, 22,\n",
       "       23, 24, 25, 26, 27, 28, 29, 30, 31, 32, 33, 34, 35, 36, 37, 38, 39, 40,\n",
       "       41, 42, 43, 44, 45, 46, 47, 48, 49, 50, 51, 52, 53, 54, 56],\n",
       "      dtype='int64', name='car_r_t')"
      ]
     },
     "execution_count": 8,
     "metadata": {},
     "output_type": "execute_result"
    }
   ],
   "source": [
    "dissolved.index"
   ]
  },
  {
   "cell_type": "markdown",
   "id": "ba3604a9",
   "metadata": {},
   "source": [
    "Aha! Well now we understand where our column went. It is now used as index in\n",
    "our `dissolved` GeoDataFrame. \n",
    "\n",
    "Now, we can for example select only such geometries from the layer that are for\n",
    "example exactly 15 minutes away from the Helsinki Railway Station:"
   ]
  },
  {
   "cell_type": "code",
   "execution_count": 9,
   "id": "d3ae90fa",
   "metadata": {},
   "outputs": [
    {
     "data": {
      "text/plain": [
       "geometry    MULTIPOLYGON (((384000.00013620744 6670750.000...\n",
       "car_m_d                                                  7458\n",
       "car_m_t                                                    13\n",
       "car_r_d                                                  7458\n",
       "from_id                                               5934913\n",
       "pt_m_d                                                   6858\n",
       "pt_m_t                                                     26\n",
       "pt_m_tt                                                    30\n",
       "pt_r_d                                                   6858\n",
       "pt_r_t                                                     27\n",
       "pt_r_tt                                                    32\n",
       "to_id                                                 5975375\n",
       "walk_d                                                   6757\n",
       "walk_t                                                     97\n",
       "GML_ID                                               27517366\n",
       "NAMEFIN                                              Helsinki\n",
       "NAMESWE                                           Helsingfors\n",
       "NATCODE                                                   091\n",
       "Name: 15, dtype: object"
      ]
     },
     "execution_count": 9,
     "metadata": {},
     "output_type": "execute_result"
    }
   ],
   "source": [
    "dissolved.loc[15]"
   ]
  },
  {
   "cell_type": "code",
   "execution_count": 10,
   "id": "3a6ffd69",
   "metadata": {},
   "outputs": [
    {
     "data": {
      "text/plain": [
       "pandas.core.series.Series"
      ]
     },
     "execution_count": 10,
     "metadata": {},
     "output_type": "execute_result"
    }
   ],
   "source": [
    "type(dissolved.loc[15])"
   ]
  },
  {
   "cell_type": "markdown",
   "id": "fe871e1b",
   "metadata": {},
   "source": [
    "As we can see, as a result, we have now a Pandas `Series` object containing\n",
    "basically one row from our original aggregated GeoDataFrame.\n",
    "\n",
    "Let’s also visualize those 15 minute grid cells.\n",
    "\n",
    "First, we need to convert the selected row back to a GeoDataFrame:"
   ]
  },
  {
   "cell_type": "code",
   "execution_count": 11,
   "id": "db343b8b",
   "metadata": {},
   "outputs": [],
   "source": [
    "selection = geopandas.GeoDataFrame([dissolved.loc[15]], crs=dissolved.crs)"
   ]
  },
  {
   "cell_type": "markdown",
   "id": "1b667fdb",
   "metadata": {},
   "source": [
    "Plot the selection on top of the entire grid:"
   ]
  },
  {
   "cell_type": "code",
   "execution_count": null,
   "id": "4eed5bd2",
   "metadata": {},
   "outputs": [
    {
     "data": {
      "text/plain": [
       "<Axes: >"
      ]
     },
     "execution_count": 12,
     "metadata": {},
     "output_type": "execute_result"
    },
    {
     "data": {
      "image/png": "[encoded data removed]",
      "text/plain": [
       "<Figure size 640x480 with 1 Axes>"
      ]
     },
     "metadata": {},
     "output_type": "display_data"
    }
   ],
   "source": [
    "# Plot all the grid cells, and the grid cells that are 15 minutes\n",
    "# away from the Railway Station\n",
    "ax = dissolved.plot(facecolor=\"gray\")\n",
    "selection.plot(ax=ax, facecolor=\"red\")"
   ]
  },
  {
   "cell_type": "markdown",
   "id": "eab57c25",
   "metadata": {},
   "source": [
    "Another way to visualize the travel times in the entire GeoDataFrame is to plot using one specific column. In order to use our `car_r_t` column, which is now the index of the GeoDataFrame, we need to reset the index:"
   ]
  },
  {
   "cell_type": "code",
   "execution_count": 13,
   "id": "a1b714fe",
   "metadata": {},
   "outputs": [
    {
     "data": {
      "text/html": [
       "<div>\n",
       "<style scoped>\n",
       "    .dataframe tbody tr th:only-of-type {\n",
       "        vertical-align: middle;\n",
       "    }\n",
       "\n",
       "    .dataframe tbody tr th {\n",
       "        vertical-align: top;\n",
       "    }\n",
       "\n",
       "    .dataframe thead th {\n",
       "        text-align: right;\n",
       "    }\n",
       "</style>\n",
       "<table border=\"1\" class=\"dataframe\">\n",
       "  <thead>\n",
       "    <tr style=\"text-align: right;\">\n",
       "      <th></th>\n",
       "      <th>car_r_t</th>\n",
       "      <th>geometry</th>\n",
       "      <th>car_m_d</th>\n",
       "      <th>car_m_t</th>\n",
       "      <th>car_r_d</th>\n",
       "      <th>from_id</th>\n",
       "      <th>pt_m_d</th>\n",
       "      <th>pt_m_t</th>\n",
       "      <th>pt_m_tt</th>\n",
       "      <th>pt_r_d</th>\n",
       "      <th>pt_r_t</th>\n",
       "      <th>pt_r_tt</th>\n",
       "      <th>to_id</th>\n",
       "      <th>walk_d</th>\n",
       "      <th>walk_t</th>\n",
       "      <th>GML_ID</th>\n",
       "      <th>NAMEFIN</th>\n",
       "      <th>NAMESWE</th>\n",
       "      <th>NATCODE</th>\n",
       "    </tr>\n",
       "  </thead>\n",
       "  <tbody>\n",
       "    <tr>\n",
       "      <th>0</th>\n",
       "      <td>-1</td>\n",
       "      <td>MULTIPOLYGON (((384750 6670000, 384500 6670000...</td>\n",
       "      <td>-1</td>\n",
       "      <td>-1</td>\n",
       "      <td>-1</td>\n",
       "      <td>5913094</td>\n",
       "      <td>-1</td>\n",
       "      <td>-1</td>\n",
       "      <td>-1</td>\n",
       "      <td>-1</td>\n",
       "      <td>-1</td>\n",
       "      <td>-1</td>\n",
       "      <td>-1</td>\n",
       "      <td>-1</td>\n",
       "      <td>-1</td>\n",
       "      <td>27517366</td>\n",
       "      <td>Helsinki</td>\n",
       "      <td>Helsingfors</td>\n",
       "      <td>091</td>\n",
       "    </tr>\n",
       "    <tr>\n",
       "      <th>1</th>\n",
       "      <td>0</td>\n",
       "      <td>POLYGON ((385750 6672000, 385750 6672250, 3860...</td>\n",
       "      <td>0</td>\n",
       "      <td>0</td>\n",
       "      <td>0</td>\n",
       "      <td>5975375</td>\n",
       "      <td>0</td>\n",
       "      <td>0</td>\n",
       "      <td>0</td>\n",
       "      <td>0</td>\n",
       "      <td>0</td>\n",
       "      <td>0</td>\n",
       "      <td>5975375</td>\n",
       "      <td>0</td>\n",
       "      <td>0</td>\n",
       "      <td>27517366</td>\n",
       "      <td>Helsinki</td>\n",
       "      <td>Helsingfors</td>\n",
       "      <td>091</td>\n",
       "    </tr>\n",
       "    <tr>\n",
       "      <th>2</th>\n",
       "      <td>7</td>\n",
       "      <td>POLYGON ((386250 6671750, 386000 6671750, 3857...</td>\n",
       "      <td>1051</td>\n",
       "      <td>7</td>\n",
       "      <td>1051</td>\n",
       "      <td>5973739</td>\n",
       "      <td>617</td>\n",
       "      <td>5</td>\n",
       "      <td>6</td>\n",
       "      <td>617</td>\n",
       "      <td>5</td>\n",
       "      <td>6</td>\n",
       "      <td>5975375</td>\n",
       "      <td>448</td>\n",
       "      <td>6</td>\n",
       "      <td>27517366</td>\n",
       "      <td>Helsinki</td>\n",
       "      <td>Helsingfors</td>\n",
       "      <td>091</td>\n",
       "    </tr>\n",
       "    <tr>\n",
       "      <th>3</th>\n",
       "      <td>8</td>\n",
       "      <td>MULTIPOLYGON (((386000 6671500, 385750 6671500...</td>\n",
       "      <td>1286</td>\n",
       "      <td>8</td>\n",
       "      <td>1286</td>\n",
       "      <td>5973736</td>\n",
       "      <td>706</td>\n",
       "      <td>10</td>\n",
       "      <td>10</td>\n",
       "      <td>706</td>\n",
       "      <td>10</td>\n",
       "      <td>10</td>\n",
       "      <td>5975375</td>\n",
       "      <td>706</td>\n",
       "      <td>10</td>\n",
       "      <td>27517366</td>\n",
       "      <td>Helsinki</td>\n",
       "      <td>Helsingfors</td>\n",
       "      <td>091</td>\n",
       "    </tr>\n",
       "    <tr>\n",
       "      <th>4</th>\n",
       "      <td>9</td>\n",
       "      <td>MULTIPOLYGON (((385000 6671250, 385000 6671500...</td>\n",
       "      <td>1871</td>\n",
       "      <td>9</td>\n",
       "      <td>1871</td>\n",
       "      <td>5970457</td>\n",
       "      <td>1384</td>\n",
       "      <td>11</td>\n",
       "      <td>13</td>\n",
       "      <td>1394</td>\n",
       "      <td>11</td>\n",
       "      <td>12</td>\n",
       "      <td>5975375</td>\n",
       "      <td>1249</td>\n",
       "      <td>18</td>\n",
       "      <td>27517366</td>\n",
       "      <td>Helsinki</td>\n",
       "      <td>Helsingfors</td>\n",
       "      <td>091</td>\n",
       "    </tr>\n",
       "  </tbody>\n",
       "</table>\n",
       "</div>"
      ],
      "text/plain": [
       "   car_r_t                                           geometry  car_m_d  \\\n",
       "0       -1  MULTIPOLYGON (((384750 6670000, 384500 6670000...       -1   \n",
       "1        0  POLYGON ((385750 6672000, 385750 6672250, 3860...        0   \n",
       "2        7  POLYGON ((386250 6671750, 386000 6671750, 3857...     1051   \n",
       "3        8  MULTIPOLYGON (((386000 6671500, 385750 6671500...     1286   \n",
       "4        9  MULTIPOLYGON (((385000 6671250, 385000 6671500...     1871   \n",
       "\n",
       "   car_m_t  car_r_d  from_id  pt_m_d  pt_m_t  pt_m_tt  pt_r_d  pt_r_t  \\\n",
       "0       -1       -1  5913094      -1      -1       -1      -1      -1   \n",
       "1        0        0  5975375       0       0        0       0       0   \n",
       "2        7     1051  5973739     617       5        6     617       5   \n",
       "3        8     1286  5973736     706      10       10     706      10   \n",
       "4        9     1871  5970457    1384      11       13    1394      11   \n",
       "\n",
       "   pt_r_tt    to_id  walk_d  walk_t    GML_ID   NAMEFIN      NAMESWE NATCODE  \n",
       "0       -1       -1      -1      -1  27517366  Helsinki  Helsingfors     091  \n",
       "1        0  5975375       0       0  27517366  Helsinki  Helsingfors     091  \n",
       "2        6  5975375     448       6  27517366  Helsinki  Helsingfors     091  \n",
       "3       10  5975375     706      10  27517366  Helsinki  Helsingfors     091  \n",
       "4       12  5975375    1249      18  27517366  Helsinki  Helsingfors     091  "
      ]
     },
     "execution_count": 13,
     "metadata": {},
     "output_type": "execute_result"
    }
   ],
   "source": [
    "dissolved = dissolved.reset_index()\n",
    "dissolved.head()"
   ]
  },
  {
   "cell_type": "markdown",
   "id": "be428696",
   "metadata": {},
   "source": [
    "As we can see, we now have our `car_r_t` as a column again, and can then plot the GeoDataFrame passing this column using the `column` parameter:"
   ]
  },
  {
   "cell_type": "code",
   "execution_count": 14,
   "id": "96f0f780",
   "metadata": {},
   "outputs": [
    {
     "data": {
      "text/plain": [
       "<Axes: >"
      ]
     },
     "execution_count": 14,
     "metadata": {},
     "output_type": "execute_result"
    },
    {
     "data": {
      "image/png": "[encoded data removed]",
      "text/plain": [
       "<Figure size 640x480 with 1 Axes>"
      ]
     },
     "metadata": {},
     "output_type": "display_data"
    }
   ],
   "source": [
    "dissolved.plot(column=\"car_r_t\")"
   ]
  },
  {
   "cell_type": "markdown",
   "id": "08a152a1-7ff6-4b2b-b7b2-6919e0b93df7",
   "metadata": {},
   "source": [
    "> **How Are Other Columns Aggregated During `dissolve`?**  \n",
    "> \n",
    "> When using the `dissolve` method in GeoPandas (e.g., `dissolved = intersection.dissolve(by=\"car_r_t\")`), here's how other columns are aggregated:\n",
    "> \n",
    "> ### Default Behavior:\n",
    "> - **Default Aggregation Function:** `aggfunc='first'`\n",
    ">   - Keeps the **first value** from each group for columns that are not involved in the aggregation (i.e., not the `by` column).\n",
    ">   - For multiple rows grouped together, only the first row's values are retained for other columns.\n",
    "> \n",
    "> ### Custom Aggregation:\n",
    "> You can control how other columns are aggregated using the `aggfunc` parameter:\n",
    "> ```python\n",
    "> dissolved = intersection.dissolve(by=\"car_r_t\", aggfunc=\"sum\")\n",
    "> ```\n",
    "> Supported aggregation functions include:\n",
    "> - `\"sum\"`: Sum of the values in the group.\n",
    "> - `\"mean\"`: Average of the values in the group.\n",
    "> - `\"min\"`: Minimum value in the group.\n",
    "> - `\"max\"`: Maximum value in the group.\n",
    "> - `\"first\"`: First value in the group (default).\n",
    "> - `\"last\"`: Last value in the group.\n",
    "> - Custom aggregation using a `lambda` function.\n",
    "> \n",
    "> ### Using Multiple Aggregations:\n",
    "> To apply different aggregations to different columns, you can do further aggregation manually:\n",
    "> ```python\n",
    "> dissolved = intersection.dissolve(by=\"car_r_t\")\n",
    "> dissolved = dissolved.groupby(\"car_r_t\").agg({\n",
    ">     \"column1\": \"sum\",\n",
    ">     \"column2\": \"mean\",\n",
    ">     \"column3\": \"max\"\n",
    "> })\n",
    "> ```\n",
    "> \n",
    "> ### Geometry Aggregation:\n",
    "> - The geometries in the grouped rows are **merged (unioned)** into a single geometry for each group."
   ]
  },
  {
   "cell_type": "code",
   "execution_count": null,
   "id": "d29bfdfc-2741-4b31-878e-7dc1d47f3050",
   "metadata": {},
   "outputs": [],
   "source": []
  }
 ],
 "metadata": {
  "kernelspec": {
   "display_name": "autogis",
   "language": "python",
   "name": "python3"
  },
  "language_info": {
   "codemirror_mode": {
    "name": "ipython",
    "version": 3
   },
   "file_extension": ".py",
   "mimetype": "text/x-python",
   "name": "python",
   "nbconvert_exporter": "python",
   "pygments_lexer": "ipython3",
   "version": "3.10.16"
  }
 },
 "nbformat": 4,
 "nbformat_minor": 5
}
